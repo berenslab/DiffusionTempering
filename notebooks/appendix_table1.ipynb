{
 "cells": [
  {
   "cell_type": "code",
   "execution_count": 1,
   "metadata": {},
   "outputs": [
    {
     "data": {
      "text/plain": [
       "Makie.Axis"
      ]
     },
     "metadata": {},
     "output_type": "display_data"
    }
   ],
   "source": [
    "using DrWatson\n",
    "@quickactivate \"FenrirForNeuro\"\n",
    "using CairoMakie\n",
    "using CSV, DataFrames\n",
    "using Printf\n",
    "using PrettyTables\n",
    "using Statistics, LinearAlgebra\n",
    "using FenrirForNeuro, ModelingToolkit, OrdinaryDiffEq\n",
    "using FileIO\n",
    "using StatsBase\n",
    "\n",
    "Axis = CairoMakie.Axis"
   ]
  },
  {
   "cell_type": "code",
   "execution_count": 2,
   "metadata": {},
   "outputs": [
    {
     "data": {
      "text/plain": [
       "pvalues (generic function with 1 method)"
      ]
     },
     "metadata": {},
     "output_type": "display_data"
    }
   ],
   "source": [
    "# helpers\n",
    "function import_csvs(fpaths, header=nothing)\n",
    "    dfs = []\n",
    "    for fpath in fpaths\n",
    "        df = CSV.read(fpath, DataFrame, header=false)\n",
    "        if header != nothing\n",
    "            rename!(df, header)\n",
    "        end\n",
    "        df[!, :iter] = 1:size(df, 1)\n",
    "        push!(dfs, df)\n",
    "    end\n",
    "    return dfs\n",
    "end\n",
    "\n",
    "get_last_rows(trajectories) = vcat([DataFrame(t[end, :]) for t in trajectories]...)\n",
    "\n",
    "\n",
    "function where_converged(trajectories, threshold=5e-2)\n",
    "    last_rows = get_last_rows(trajectories)\n",
    "    pRMSEs = map(x -> rel_pRMSE(x, pvalues(θ)), eachrow(Array(last_rows[!, pkeys(θ)])))\n",
    "    return pRMSEs .< 5e-2\n",
    "end\n",
    "\n",
    "\n",
    "l2 = get_l2_loss()\n",
    "\n",
    "pkeys(θ) = map(θᵢ -> Symbol(θᵢ[1]), θ)\n",
    "pvalues(θ) = map(θᵢ -> θᵢ[2], θ)"
   ]
  },
  {
   "cell_type": "code",
   "execution_count": 43,
   "metadata": {},
   "outputs": [
    {
     "data": {
      "text/plain": [
       "merge_means_and_std_cols (generic function with 1 method)"
      ]
     },
     "metadata": {},
     "output_type": "display_data"
    }
   ],
   "source": [
    "function get_merged_cell_idxs(latex_table_str)\n",
    "    idxs_μ = findall([occursin.([\"mu\"], split(split(latex_table_str, \"\\\\\\\\\")[1], \"&\"))][1])\n",
    "    idxs_σ = findall([occursin.([\"sigma\"], split(split(latex_table_str, \"\\\\\\\\\")[1], \"&\"))][1])\n",
    "    merge_idxs = idxs_μ[[any(idxs_μ .+ 1 .== idxs_σ', dims=2)...]]\n",
    "end\n",
    "\n",
    "function merge_means_and_std_cols(latex_table_str)\n",
    "    reformatted_rows = []\n",
    "    merge_at = get_merged_cell_idxs(latex_table_str)\n",
    "    num_cols_merged = length(merge_at)\n",
    "    for row in split(latex_table_str, \"\\\\\\\\\")\n",
    "        if occursin(\"&\", row)\n",
    "            split_row = split(row, \"&\")\n",
    "            reformatted_row = []\n",
    "            for (i, element) in enumerate(split_row)\n",
    "                if i in merge_at\n",
    "                    push!(reformatted_row, element * \"pm\")\n",
    "                elseif i == length(split_row)\n",
    "                    push!(reformatted_row, element)\n",
    "                else\n",
    "                    push!(reformatted_row, element * \"&\")\n",
    "                end\n",
    "            end\n",
    "            reformatted_row = join(reformatted_row)\n",
    "            push!(reformatted_rows, reformatted_row)\n",
    "        else\n",
    "            push!(reformatted_rows, row)\n",
    "        end\n",
    "    end\n",
    "\n",
    "    s = join(reformatted_rows, \"\\\\\\\\\")\n",
    "    s = replace(s, r\"\\\\textbf{mu\\\\_(.*?)} pm \\\\textbf{sigma\\\\_\\1}\" => s\"\\\\textbf{\\1}\")\n",
    "    s = replace(s, r\"\\{(r+)\\}\" => m -> \"{\" * repeat(\"l\", length(m) - num_cols_merged - 2) * \"}\")\n",
    "    reformatted_table = replace(s, r\"& ([^&]*?) pm ([^&]*?) \" => s\"& $\\1 \\\\pm \\2$ \")\n",
    "\n",
    "    # if \"\\\\\\hline\" in reformatted_table add \\n\n",
    "    if occursin(\"\\\\\\\\hline\", reformatted_table)\n",
    "        reformatted_table = replace(reformatted_table, r\"\\\\\\\\hline\" => s\"\\\\\\n  \\\\hline\")\n",
    "    end\n",
    "\n",
    "    s = split(reformatted_table, \"\\\\\\\\\")\n",
    "    # insert hlines\n",
    "    lines_starting_w_0 = [occursin(\"\\n  0.00\", line) ? i : 0 for (i,line) in enumerate(s)]\n",
    "    lines_starting_w_0 = filter(x -> x != 0, lines_starting_w_0)[2:end]\n",
    "    for (i, l) in enumerate(lines_starting_w_0)\n",
    "        insert!(s, l+i-1, \"\\n  \\\\hline\")\n",
    "    end\n",
    "    reformatted_table = join(s, \"\\\\\\\\\")\n",
    "    # replace \\hline\\\\ with \\hline\n",
    "    reformatted_table = replace(reformatted_table, r\"\\\\hline\\\\\\\\\\\\\\\\\" => s\"\\\\hline\")\n",
    "    # replace \\_ with _\n",
    "    reformatted_table = replace(reformatted_table, r\"\\\\_\" => s\"_\")\n",
    "\n",
    "    return reformatted_table\n",
    "end"
   ]
  },
  {
   "cell_type": "code",
   "execution_count": 3,
   "metadata": {},
   "outputs": [
    {
     "data": {
      "text/plain": [
       "(titlesize = 7, xlabelsize = 7, ylabelsize = 7, xticklabelsize = 7, yticklabelsize = 7, xticksize = 2, yticksize = 2)"
      ]
     },
     "metadata": {},
     "output_type": "display_data"
    }
   ],
   "source": [
    "HALF_WIDTH = ((6.75 - 0.25) / 2) # inches\n",
    "FULL_WIDTH = 6.75 # inches\n",
    "HEIGHT = 0.5 * HALF_WIDTH # inches\n",
    "\n",
    "PT_PER_INCH = 72\n",
    "HALF_WIDTH *= PT_PER_INCH\n",
    "FULL_WIDTH *= PT_PER_INCH\n",
    "HEIGHT *= PT_PER_INCH\n",
    "\n",
    "RESULTS_PATH = \"../../results/\"\n",
    "FIGURES_PATH = \"../../figures/\"\n",
    "\n",
    "PLOT_DEFAULTS = (titlesize=7, xlabelsize=7, ylabelsize=7, xticklabelsize=7, yticklabelsize=7, xticksize=2, yticksize=2)"
   ]
  },
  {
   "cell_type": "code",
   "execution_count": 14,
   "metadata": {},
   "outputs": [
    {
     "name": "stdout",
     "output_type": "stream",
     "text": [
      "\u001b[1m30×7 DataFrame\u001b[0m\n",
      "\u001b[1m Row \u001b[0m│\u001b[1m scale   \u001b[0m\u001b[1m decay_rate \u001b[0m\u001b[1m conv    \u001b[0m\u001b[1m mu_pRMSE \u001b[0m\u001b[1m sigma_pRMSE \u001b[0m\u001b[1m mu_iter \u001b[0m\u001b[1m sigma_iter \u001b[0m\n",
      "     │\u001b[90m Float64 \u001b[0m\u001b[90m Float64    \u001b[0m\u001b[90m Float64 \u001b[0m\u001b[90m Float64  \u001b[0m\u001b[90m Float64     \u001b[0m\u001b[90m Float64 \u001b[0m\u001b[90m Float64    \u001b[0m\n",
      "─────┼──────────────────────────────────────────────────────────────────────────\n",
      "   1 │    0.0          0.0     0.32  1.42454      1.09027     33.47    18.1077\n",
      "   2 │    0.01         0.0     0.35  1.40087      1.11206     33.79    12.8396\n",
      "   3 │    0.05         0.0     0.34  1.41001      1.10422     29.89    10.7674\n",
      "   4 │    0.1          0.0     0.37  1.40297      1.12603     27.3     11.8369\n",
      "   5 │    0.5          0.0     0.49  1.14034      1.12978     15.19    10.723\n",
      "   6 │    1.0          0.0     0.63  0.770379     1.04765     15.52    14.1196\n",
      "   7 │    5.0          0.0     0.64  0.509967     0.881543    13.01     8.86771\n",
      "   8 │   10.0          0.0     0.39  0.642715     0.930597    10.43     7.19323\n",
      "   9 │   50.0          0.0     0.45  0.488851     0.83071     11.66     8.26117\n",
      "  10 │  100.0          0.0     0.28  0.439121     0.741832    10.26     7.41772\n",
      "  11 │    0.0          5.0     0.32  1.42454      1.09027     33.47    18.1077\n",
      "  12 │    0.01         5.0     0.31  1.45201      1.08199     35.94    18.5847\n",
      "  13 │    0.05         5.0     0.33  1.44558      1.1027      32.58    13.3909\n",
      "  14 │    0.1          5.0     0.35  1.40136      1.11204     33.65    12.8451\n",
      "  15 │    0.5          5.0     0.43  1.23611      1.12516     22.23    14.9287\n",
      "  16 │    1.0          5.0     0.53  0.978344     1.08215     22.68    18.5134\n",
      "  17 │    5.0          5.0     0.59  0.671106     0.994258    15.23    13.3272\n",
      "  18 │   10.0          5.0     0.45  0.512537     0.84487     13.11    13.4914\n",
      "  19 │   50.0          5.0     0.4   0.505533     0.790344    11.36    11.6042\n",
      "  20 │  100.0          5.0     0.41  0.578049     0.863038    12.54    14.2037\n",
      "  21 │    0.0         10.0     0.32  1.42454      1.09027     33.47    18.1077\n",
      "  22 │    0.01        10.0     0.33  1.43092      1.10023     33.42    12.896\n",
      "  23 │    0.05        10.0     0.32  1.44004      1.09207     34.21    11.0035\n",
      "  24 │    0.1         10.0     0.34  1.38864      1.10582     33.4     12.7017\n",
      "  25 │    0.5         10.0     0.46  1.21652      1.14297     18.89    13.1962\n",
      "  26 │    1.0         10.0     0.5   1.08443      1.10149     18.58    14.9512\n",
      "  27 │    5.0         10.0     0.61  0.584555     0.942943    14.28    12.634\n",
      "  28 │   10.0         10.0     0.58  0.551102     0.89796     12.95    10.8975\n",
      "  29 │   50.0         10.0     0.32  0.40537      0.712778     9.96     8.40144\n",
      "  30 │  100.0         10.0     0.37  0.395248     0.715176    10.92     8.47299\n"
     ]
    }
   ],
   "source": [
    "IN_PATH = RESULTS_PATH * \"pd/1p/single_pendulum/rk4/l2_noisy_grad\"\n",
    "FNAMES = readdir(IN_PATH)\n",
    "FPATHS = [joinpath(IN_PATH, fname) for fname in FNAMES]\n",
    "\n",
    "grad_noise_scales = [0, 0.01, 0.05, 0.1, 0.5, 1.0, 5.0, 10.0, 50.0, 100.0]\n",
    "\n",
    "metrics = []\n",
    "for (j, decay_rate) in enumerate([0, 5, 10])\n",
    "    for (k, scale) in enumerate(grad_noise_scales)\n",
    "        fpaths = filter(x -> occursin(\"$j\" * \"_$k-\", x), FPATHS)\n",
    "        trajectories = import_csvs(fpaths, [:l, :loss, :T])\n",
    "        last_rows = vcat([DataFrame(t[end, :]) for t in trajectories]...)\n",
    "        θ_est = Array(last_rows[!, [:l]])\n",
    "        pRMSEs = map(x -> rel_pRMSE(x, [3.0]), eachrow(θ_est))\n",
    "\n",
    "        last_rows[!, :pRMSE] = [pRMSEs...]\n",
    "        last_rows[!, :conv] = [(pRMSEs .< 5e-2)...]\n",
    "\n",
    "        mean_conv = mean(last_rows[!, :conv])\n",
    "        mean_pRMSE = mean(last_rows[!, :pRMSE])\n",
    "        mean_iter = mean(last_rows[!, :iter])\n",
    "\n",
    "        std_pRMSE = std(last_rows[!, :pRMSE])\n",
    "        std_iter = std(last_rows[!, :iter])\n",
    "\n",
    "        push!(metrics, [scale, decay_rate, mean_conv, mean_pRMSE, std_pRMSE, mean_iter, std_iter])\n",
    "    end\n",
    "end\n",
    "\n",
    "metrics = hcat(metrics...)'\n",
    "metrics = DataFrame(metrics, [:scale, :decay_rate, :conv, :mu_pRMSE, :sigma_pRMSE, :mu_iter, :sigma_iter])\n",
    "println(metrics)"
   ]
  },
  {
   "cell_type": "code",
   "execution_count": 44,
   "metadata": {},
   "outputs": [
    {
     "name": "stdout",
     "output_type": "stream",
     "text": [
      "\\begin{tabular}{lllll}\n",
      "  \\hline\n",
      "  \\textbf{scale} & \\textbf{decay_rate} & \\textbf{conv} & \\textbf{pRMSE} & \\textbf{iter} \\\\\n",
      "  \\hline\n",
      "  0.00 & 0.00 & 0.32 & $1.42 \\pm 1.09$ & $33.47 \\pm 18.11$ \\\\\n",
      "  0.01 & 0.00 & 0.35 & $1.40 \\pm 1.11$ & $33.79 \\pm 12.84$ \\\\\n",
      "  0.05 & 0.00 & 0.34 & $1.41 \\pm 1.10$ & $29.89 \\pm 10.77$ \\\\\n",
      "  0.10 & 0.00 & 0.37 & $1.40 \\pm 1.13$ & $27.30 \\pm 11.84$ \\\\\n",
      "  0.50 & 0.00 & 0.49 & $1.14 \\pm 1.13$ & $15.19 \\pm 10.72$ \\\\\n",
      "  1.00 & 0.00 & 0.63 & $0.77 \\pm 1.05$ & $15.52 \\pm 14.12$ \\\\\n",
      "  5.00 & 0.00 & 0.64 & $0.51 \\pm 0.88$ & $13.01 \\pm 8.87$ \\\\\n",
      "  10.00 & 0.00 & 0.39 & $0.64 \\pm 0.93$ & $10.43 \\pm 7.19$ \\\\\n",
      "  50.00 & 0.00 & 0.45 & $0.49 \\pm 0.83$ & $11.66 \\pm 8.26$ \\\\\n",
      "  100.00 & 0.00 & 0.28 & $0.44 \\pm 0.74$ & $10.26 \\pm 7.42$ \\\\\n",
      "  \\hline\n",
      "  0.00 & 5.00 & 0.32 & $1.42 \\pm 1.09$ & $33.47 \\pm 18.11$ \\\\\n",
      "  0.01 & 5.00 & 0.31 & $1.45 \\pm 1.08$ & $35.94 \\pm 18.58$ \\\\\n",
      "  0.05 & 5.00 & 0.33 & $1.45 \\pm 1.10$ & $32.58 \\pm 13.39$ \\\\\n",
      "  0.10 & 5.00 & 0.35 & $1.40 \\pm 1.11$ & $33.65 \\pm 12.85$ \\\\\n",
      "  0.50 & 5.00 & 0.43 & $1.24 \\pm 1.13$ & $22.23 \\pm 14.93$ \\\\\n",
      "  1.00 & 5.00 & 0.53 & $0.98 \\pm 1.08$ & $22.68 \\pm 18.51$ \\\\\n",
      "  5.00 & 5.00 & 0.59 & $0.67 \\pm 0.99$ & $15.23 \\pm 13.33$ \\\\\n",
      "  10.00 & 5.00 & 0.45 & $0.51 \\pm 0.84$ & $13.11 \\pm 13.49$ \\\\\n",
      "  50.00 & 5.00 & 0.40 & $0.51 \\pm 0.79$ & $11.36 \\pm 11.60$ \\\\\n",
      "  100.00 & 5.00 & 0.41 & $0.58 \\pm 0.86$ & $12.54 \\pm 14.20$ \\\\\n",
      "  \\hline\n",
      "  0.00 & 10.00 & 0.32 & $1.42 \\pm 1.09$ & $33.47 \\pm 18.11$ \\\\\n",
      "  0.01 & 10.00 & 0.33 & $1.43 \\pm 1.10$ & $33.42 \\pm 12.90$ \\\\\n",
      "  0.05 & 10.00 & 0.32 & $1.44 \\pm 1.09$ & $34.21 \\pm 11.00$ \\\\\n",
      "  0.10 & 10.00 & 0.34 & $1.39 \\pm 1.11$ & $33.40 \\pm 12.70$ \\\\\n",
      "  0.50 & 10.00 & 0.46 & $1.22 \\pm 1.14$ & $18.89 \\pm 13.20$ \\\\\n",
      "  1.00 & 10.00 & 0.50 & $1.08 \\pm 1.10$ & $18.58 \\pm 14.95$ \\\\\n",
      "  5.00 & 10.00 & 0.61 & $0.58 \\pm 0.94$ & $14.28 \\pm 12.63$ \\\\\n",
      "  10.00 & 10.00 & 0.58 & $0.55 \\pm 0.90$ & $12.95 \\pm 10.90$ \\\\\n",
      "  50.00 & 10.00 & 0.32 & $0.41 \\pm 0.71$ & $9.96 \\pm 8.40$ \\\\\n",
      "  100.00 & 10.00 & 0.37 & $0.40 \\pm 0.72$ & $10.92 \\pm 8.47$ \\\\\n",
      "  \\hline\n",
      "\\end{tabular}\n"
     ]
    }
   ],
   "source": [
    "metrics_latex_table = pretty_table(String, metrics; backend=Val(:latex), show_subheader=false, formatters=ft_printf(\"%.2f\"))\n",
    "metrics_latex_table = merge_means_and_std_cols(metrics_latex_table)\n",
    "\n",
    "print(metrics_latex_table)"
   ]
  }
 ],
 "metadata": {
  "kernelspec": {
   "display_name": "Julia 1.9.4",
   "language": "julia",
   "name": "julia-1.9"
  },
  "language_info": {
   "file_extension": ".jl",
   "mimetype": "application/julia",
   "name": "julia",
   "version": "1.9.4"
  }
 },
 "nbformat": 4,
 "nbformat_minor": 2
}
