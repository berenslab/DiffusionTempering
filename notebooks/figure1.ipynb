{
 "cells": [
  {
   "cell_type": "code",
   "execution_count": 1,
   "metadata": {},
   "outputs": [
    {
     "data": {
      "text/plain": [
       "Makie.Axis"
      ]
     },
     "metadata": {},
     "output_type": "display_data"
    }
   ],
   "source": [
    "using DrWatson\n",
    "@quickactivate \"FenrirForNeuro\"\n",
    "using CairoMakie\n",
    "using CSV, DataFrames\n",
    "using Printf\n",
    "using Statistics, LinearAlgebra\n",
    "using ModelingToolkit, FenrirForNeuro, OrdinaryDiffEq\n",
    "\n",
    "Axis = CairoMakie.Axis"
   ]
  },
  {
   "cell_type": "code",
   "execution_count": 2,
   "metadata": {},
   "outputs": [
    {
     "data": {
      "text/plain": [
       "values (generic function with 1 method)"
      ]
     },
     "metadata": {},
     "output_type": "display_data"
    }
   ],
   "source": [
    "# helpers\n",
    "function import_csvs(path, fnames, header=nothing)\n",
    "    dfs = []\n",
    "    for fname in fnames\n",
    "        fpath = joinpath(path, fname)\n",
    "        df = CSV.read(fpath, DataFrame, header=false)\n",
    "        if header != nothing\n",
    "            rename!(df, header)\n",
    "        end\n",
    "        push!(dfs, df)\n",
    "    end\n",
    "    return dfs\n",
    "end\n",
    "\n",
    "get_last_rows(trajectories) = vcat([DataFrame(t[end, :]) for t in trajectories]...)\n",
    "\n",
    "keys(θ) = map(θᵢ -> Symbol(θᵢ[1]), θ)\n",
    "values(θ) = map(θᵢ -> θᵢ[2], θ)"
   ]
  },
  {
   "cell_type": "code",
   "execution_count": 8,
   "metadata": {},
   "outputs": [
    {
     "data": {
      "text/plain": [
       "(titlesize = 7, xlabelsize = 7, ylabelsize = 7, xticklabelsize = 7, yticklabelsize = 7, xticksize = 2, yticksize = 2)"
      ]
     },
     "metadata": {},
     "output_type": "display_data"
    }
   ],
   "source": [
    "HALF_WIDTH = ((6.75 - 0.25) / 2) # inches\n",
    "FULL_WIDTH = 6.75 # inches\n",
    "HEIGHT = 0.3 * HALF_WIDTH # inches\n",
    "\n",
    "PT_PER_INCH = 72\n",
    "HALF_WIDTH *= PT_PER_INCH\n",
    "FULL_WIDTH *= PT_PER_INCH\n",
    "HEIGHT *= PT_PER_INCH\n",
    "\n",
    "RESULTS_PATH = \"../../results/\"\n",
    "FIGURES_PATH = \"../../figures/\"\n",
    "\n",
    "PLOT_DEFAULTS = (titlesize=7, xlabelsize=7, ylabelsize=7, xticklabelsize=7, yticklabelsize=7, xticksize=2, yticksize=2)"
   ]
  },
  {
   "cell_type": "code",
   "execution_count": 9,
   "metadata": {},
   "outputs": [
    {
     "data": {
      "text/plain": [
       "(t = [0.0, 0.01, 0.02, 0.03, 0.04, 0.05, 0.06, 0.07, 0.08, 0.09  …  99.91, 99.92, 99.93, 99.94, 99.95, 99.96, 99.97, 99.98, 99.99, 100.0], u = [[-70.0], [-69.99999986016917], [-69.9999997204781], [-69.99999958092664], [-69.99999944151466], [-69.99999930224202], [-69.99999916310858], [-69.9999990241142], [-69.99999888525873], [-69.99999874654203]  …  [-65.41773466442645], [-65.42231183298583], [-65.42688443476916], [-65.4314524743088], [-65.43601595613706], [-65.44057488478626], [-65.44512926478873], [-65.44967910067682], [-65.45422439698282], [-65.45876515823909]])"
      ]
     },
     "metadata": {},
     "output_type": "display_data"
    }
   ],
   "source": [
    "@parameters l φ₀\n",
    "θ_pd = [l => 3]\n",
    "pd_prior, pd = get_Pendulum(θ_pd)\n",
    "pd_proj = [1 0]\n",
    "pd_observation = generate_data(pd, pd_proj, 0, 1e-2)\n",
    "\n",
    "# @parameters gNa gK\n",
    "# θ_hh = [gNa => 25, gK => 7]\n",
    "# hh_prior, hh = get_SinglecompartmentHH(θ_hh)\n",
    "\n",
    "# hh_proj = [1 0 0 0]\n",
    "# hh_observation = generate_data(hh, hh_proj, 0, 1e-2)\n",
    "\n",
    "@parameters gNa gK gleak\n",
    "θ_hh = [gNa => 25, gK => 7, gleak => 0.1]\n",
    "hh_prior, hh = get_SinglecompartmentHH(θ_hh)\n",
    "\n",
    "hh_proj = [1 0 0 0]\n",
    "hh_observation = generate_data(hh, hh_proj, 0, 1e-2)"
   ]
  },
  {
   "cell_type": "code",
   "execution_count": 10,
   "metadata": {},
   "outputs": [
    {
     "data": {
      "text/html": [
       "<div><div style = \"float: left;\"><span>100×6 DataFrame</span></div><div style = \"float: right;\"><span style = \"font-style: italic;\">75 rows omitted</span></div><div style = \"clear: both;\"></div></div><div class = \"data-frame\" style = \"overflow-x: scroll;\"><table class = \"data-frame\" style = \"margin-bottom: 6px;\"><thead><tr class = \"header\"><th class = \"rowNumber\" style = \"font-weight: bold; text-align: right;\">Row</th><th style = \"text-align: left;\">gNa</th><th style = \"text-align: left;\">gK</th><th style = \"text-align: left;\">gleak</th><th style = \"text-align: left;\">κ²</th><th style = \"text-align: left;\">loss</th><th style = \"text-align: left;\">T</th></tr><tr class = \"subheader headerLastRow\"><th class = \"rowNumber\" style = \"font-weight: bold; text-align: right;\"></th><th title = \"Float64\" style = \"text-align: left;\">Float64</th><th title = \"Float64\" style = \"text-align: left;\">Float64</th><th title = \"Float64\" style = \"text-align: left;\">Float64</th><th title = \"Float64\" style = \"text-align: left;\">Float64</th><th title = \"Float64\" style = \"text-align: left;\">Float64</th><th title = \"Float64\" style = \"text-align: left;\">Float64</th></tr></thead><tbody><tr><td class = \"rowNumber\" style = \"font-weight: bold; text-align: right;\">1</td><td style = \"text-align: right;\">24.9104</td><td style = \"text-align: right;\">6.98365</td><td style = \"text-align: right;\">0.0999319</td><td style = \"text-align: right;\">1193.78</td><td style = \"text-align: right;\">1347.9</td><td style = \"text-align: right;\">10261.5</td></tr><tr><td class = \"rowNumber\" style = \"font-weight: bold; text-align: right;\">2</td><td style = \"text-align: right;\">24.9104</td><td style = \"text-align: right;\">6.98365</td><td style = \"text-align: right;\">0.0999319</td><td style = \"text-align: right;\">1193.78</td><td style = \"text-align: right;\">1347.9</td><td style = \"text-align: right;\">10139.8</td></tr><tr><td class = \"rowNumber\" style = \"font-weight: bold; text-align: right;\">3</td><td style = \"text-align: right;\">24.9104</td><td style = \"text-align: right;\">6.98365</td><td style = \"text-align: right;\">0.0999319</td><td style = \"text-align: right;\">1193.78</td><td style = \"text-align: right;\">1347.9</td><td style = \"text-align: right;\">11827.7</td></tr><tr><td class = \"rowNumber\" style = \"font-weight: bold; text-align: right;\">4</td><td style = \"text-align: right;\">25.0103</td><td style = \"text-align: right;\">6.98256</td><td style = \"text-align: right;\">0.100007</td><td style = \"text-align: right;\">1193.78</td><td style = \"text-align: right;\">1457.51</td><td style = \"text-align: right;\">9572.34</td></tr><tr><td class = \"rowNumber\" style = \"font-weight: bold; text-align: right;\">5</td><td style = \"text-align: right;\">24.9104</td><td style = \"text-align: right;\">6.98365</td><td style = \"text-align: right;\">0.0999319</td><td style = \"text-align: right;\">1193.78</td><td style = \"text-align: right;\">1347.9</td><td style = \"text-align: right;\">9552.36</td></tr><tr><td class = \"rowNumber\" style = \"font-weight: bold; text-align: right;\">6</td><td style = \"text-align: right;\">24.9104</td><td style = \"text-align: right;\">6.98365</td><td style = \"text-align: right;\">0.0999319</td><td style = \"text-align: right;\">1193.78</td><td style = \"text-align: right;\">1347.9</td><td style = \"text-align: right;\">11933.1</td></tr><tr><td class = \"rowNumber\" style = \"font-weight: bold; text-align: right;\">7</td><td style = \"text-align: right;\">25.0103</td><td style = \"text-align: right;\">6.98256</td><td style = \"text-align: right;\">0.100007</td><td style = \"text-align: right;\">1193.78</td><td style = \"text-align: right;\">1457.51</td><td style = \"text-align: right;\">11541.1</td></tr><tr><td class = \"rowNumber\" style = \"font-weight: bold; text-align: right;\">8</td><td style = \"text-align: right;\">25.0049</td><td style = \"text-align: right;\">6.98964</td><td style = \"text-align: right;\">0.0999877</td><td style = \"text-align: right;\">1193.78</td><td style = \"text-align: right;\">1591.63</td><td style = \"text-align: right;\">11805.8</td></tr><tr><td class = \"rowNumber\" style = \"font-weight: bold; text-align: right;\">9</td><td style = \"text-align: right;\">25.0103</td><td style = \"text-align: right;\">6.98256</td><td style = \"text-align: right;\">0.100007</td><td style = \"text-align: right;\">1193.78</td><td style = \"text-align: right;\">1457.51</td><td style = \"text-align: right;\">15711.2</td></tr><tr><td class = \"rowNumber\" style = \"font-weight: bold; text-align: right;\">10</td><td style = \"text-align: right;\">24.9104</td><td style = \"text-align: right;\">6.98365</td><td style = \"text-align: right;\">0.0999319</td><td style = \"text-align: right;\">1193.78</td><td style = \"text-align: right;\">1347.9</td><td style = \"text-align: right;\">12795.5</td></tr><tr><td class = \"rowNumber\" style = \"font-weight: bold; text-align: right;\">11</td><td style = \"text-align: right;\">24.9104</td><td style = \"text-align: right;\">6.98365</td><td style = \"text-align: right;\">0.0999319</td><td style = \"text-align: right;\">1193.78</td><td style = \"text-align: right;\">1347.9</td><td style = \"text-align: right;\">9381.67</td></tr><tr><td class = \"rowNumber\" style = \"font-weight: bold; text-align: right;\">12</td><td style = \"text-align: right;\">24.9184</td><td style = \"text-align: right;\">6.9854</td><td style = \"text-align: right;\">0.0999201</td><td style = \"text-align: right;\">1193.78</td><td style = \"text-align: right;\">1386.43</td><td style = \"text-align: right;\">11664.1</td></tr><tr><td class = \"rowNumber\" style = \"font-weight: bold; text-align: right;\">13</td><td style = \"text-align: right;\">25.0103</td><td style = \"text-align: right;\">6.98256</td><td style = \"text-align: right;\">0.100007</td><td style = \"text-align: right;\">1193.78</td><td style = \"text-align: right;\">1457.51</td><td style = \"text-align: right;\">10863.9</td></tr><tr><td style = \"text-align: right;\">&vellip;</td><td style = \"text-align: right;\">&vellip;</td><td style = \"text-align: right;\">&vellip;</td><td style = \"text-align: right;\">&vellip;</td><td style = \"text-align: right;\">&vellip;</td><td style = \"text-align: right;\">&vellip;</td><td style = \"text-align: right;\">&vellip;</td></tr><tr><td class = \"rowNumber\" style = \"font-weight: bold; text-align: right;\">89</td><td style = \"text-align: right;\">24.9104</td><td style = \"text-align: right;\">6.98365</td><td style = \"text-align: right;\">0.0999319</td><td style = \"text-align: right;\">1193.78</td><td style = \"text-align: right;\">1347.9</td><td style = \"text-align: right;\">10228.8</td></tr><tr><td class = \"rowNumber\" style = \"font-weight: bold; text-align: right;\">90</td><td style = \"text-align: right;\">25.0103</td><td style = \"text-align: right;\">6.98256</td><td style = \"text-align: right;\">0.100007</td><td style = \"text-align: right;\">1193.78</td><td style = \"text-align: right;\">1457.51</td><td style = \"text-align: right;\">10147.6</td></tr><tr><td class = \"rowNumber\" style = \"font-weight: bold; text-align: right;\">91</td><td style = \"text-align: right;\">24.9104</td><td style = \"text-align: right;\">6.98365</td><td style = \"text-align: right;\">0.0999319</td><td style = \"text-align: right;\">1193.78</td><td style = \"text-align: right;\">1347.9</td><td style = \"text-align: right;\">8789.39</td></tr><tr><td class = \"rowNumber\" style = \"font-weight: bold; text-align: right;\">92</td><td style = \"text-align: right;\">24.9104</td><td style = \"text-align: right;\">6.98365</td><td style = \"text-align: right;\">0.0999319</td><td style = \"text-align: right;\">1193.78</td><td style = \"text-align: right;\">1347.9</td><td style = \"text-align: right;\">9708.47</td></tr><tr><td class = \"rowNumber\" style = \"font-weight: bold; text-align: right;\">93</td><td style = \"text-align: right;\">24.9104</td><td style = \"text-align: right;\">6.98365</td><td style = \"text-align: right;\">0.0999319</td><td style = \"text-align: right;\">1193.78</td><td style = \"text-align: right;\">1347.9</td><td style = \"text-align: right;\">9848.5</td></tr><tr><td class = \"rowNumber\" style = \"font-weight: bold; text-align: right;\">94</td><td style = \"text-align: right;\">24.9104</td><td style = \"text-align: right;\">6.98365</td><td style = \"text-align: right;\">0.0999319</td><td style = \"text-align: right;\">1193.78</td><td style = \"text-align: right;\">1347.9</td><td style = \"text-align: right;\">14816.2</td></tr><tr><td class = \"rowNumber\" style = \"font-weight: bold; text-align: right;\">95</td><td style = \"text-align: right;\">24.9104</td><td style = \"text-align: right;\">6.98365</td><td style = \"text-align: right;\">0.0999319</td><td style = \"text-align: right;\">1193.78</td><td style = \"text-align: right;\">1347.9</td><td style = \"text-align: right;\">8546.76</td></tr><tr><td class = \"rowNumber\" style = \"font-weight: bold; text-align: right;\">96</td><td style = \"text-align: right;\">0.5</td><td style = \"text-align: right;\">15.0</td><td style = \"text-align: right;\">0.189585</td><td style = \"text-align: right;\">1193.78</td><td style = \"text-align: right;\">6.00404e6</td><td style = \"text-align: right;\">14301.7</td></tr><tr><td class = \"rowNumber\" style = \"font-weight: bold; text-align: right;\">97</td><td style = \"text-align: right;\">24.9104</td><td style = \"text-align: right;\">6.98365</td><td style = \"text-align: right;\">0.0999319</td><td style = \"text-align: right;\">1193.78</td><td style = \"text-align: right;\">1347.9</td><td style = \"text-align: right;\">10849.6</td></tr><tr><td class = \"rowNumber\" style = \"font-weight: bold; text-align: right;\">98</td><td style = \"text-align: right;\">24.9104</td><td style = \"text-align: right;\">6.98365</td><td style = \"text-align: right;\">0.0999319</td><td style = \"text-align: right;\">1193.78</td><td style = \"text-align: right;\">1347.9</td><td style = \"text-align: right;\">10994.4</td></tr><tr><td class = \"rowNumber\" style = \"font-weight: bold; text-align: right;\">99</td><td style = \"text-align: right;\">24.9104</td><td style = \"text-align: right;\">6.98365</td><td style = \"text-align: right;\">0.0999319</td><td style = \"text-align: right;\">1193.78</td><td style = \"text-align: right;\">1347.9</td><td style = \"text-align: right;\">9061.04</td></tr><tr><td class = \"rowNumber\" style = \"font-weight: bold; text-align: right;\">100</td><td style = \"text-align: right;\">24.9104</td><td style = \"text-align: right;\">6.98365</td><td style = \"text-align: right;\">0.0999319</td><td style = \"text-align: right;\">1193.78</td><td style = \"text-align: right;\">1347.9</td><td style = \"text-align: right;\">10781.1</td></tr></tbody></table></div>"
      ],
      "text/latex": [
       "\\begin{tabular}{r|cccccc}\n",
       "\t& gNa & gK & gleak & κ² & loss & T\\\\\n",
       "\t\\hline\n",
       "\t& Float64 & Float64 & Float64 & Float64 & Float64 & Float64\\\\\n",
       "\t\\hline\n",
       "\t1 & 24.9104 & 6.98365 & 0.0999319 & 1193.78 & 1347.9 & 10261.5 \\\\\n",
       "\t2 & 24.9104 & 6.98365 & 0.0999319 & 1193.78 & 1347.9 & 10139.8 \\\\\n",
       "\t3 & 24.9104 & 6.98365 & 0.0999319 & 1193.78 & 1347.9 & 11827.7 \\\\\n",
       "\t4 & 25.0103 & 6.98256 & 0.100007 & 1193.78 & 1457.51 & 9572.34 \\\\\n",
       "\t5 & 24.9104 & 6.98365 & 0.0999319 & 1193.78 & 1347.9 & 9552.36 \\\\\n",
       "\t6 & 24.9104 & 6.98365 & 0.0999319 & 1193.78 & 1347.9 & 11933.1 \\\\\n",
       "\t7 & 25.0103 & 6.98256 & 0.100007 & 1193.78 & 1457.51 & 11541.1 \\\\\n",
       "\t8 & 25.0049 & 6.98964 & 0.0999877 & 1193.78 & 1591.63 & 11805.8 \\\\\n",
       "\t9 & 25.0103 & 6.98256 & 0.100007 & 1193.78 & 1457.51 & 15711.2 \\\\\n",
       "\t10 & 24.9104 & 6.98365 & 0.0999319 & 1193.78 & 1347.9 & 12795.5 \\\\\n",
       "\t11 & 24.9104 & 6.98365 & 0.0999319 & 1193.78 & 1347.9 & 9381.67 \\\\\n",
       "\t12 & 24.9184 & 6.9854 & 0.0999201 & 1193.78 & 1386.43 & 11664.1 \\\\\n",
       "\t13 & 25.0103 & 6.98256 & 0.100007 & 1193.78 & 1457.51 & 10863.9 \\\\\n",
       "\t14 & 25.0103 & 6.98256 & 0.100007 & 1193.78 & 1457.51 & 14150.4 \\\\\n",
       "\t15 & 25.0103 & 6.98256 & 0.100007 & 1193.78 & 1457.51 & 9597.24 \\\\\n",
       "\t16 & 25.0103 & 6.98256 & 0.100007 & 1193.78 & 1457.51 & 10693.5 \\\\\n",
       "\t17 & 24.9104 & 6.98365 & 0.0999319 & 1193.78 & 1347.9 & 9220.11 \\\\\n",
       "\t18 & 25.0049 & 6.98964 & 0.0999877 & 1193.78 & 1591.63 & 9721.04 \\\\\n",
       "\t19 & 24.9104 & 6.98365 & 0.0999319 & 1193.78 & 1347.9 & 9908.02 \\\\\n",
       "\t20 & 24.9104 & 6.98365 & 0.0999319 & 1193.78 & 1347.9 & 9480.29 \\\\\n",
       "\t21 & 25.0103 & 6.98256 & 0.100007 & 1193.78 & 1457.51 & 12172.4 \\\\\n",
       "\t22 & 24.9104 & 6.98365 & 0.0999319 & 1193.78 & 1347.9 & 11645.7 \\\\\n",
       "\t23 & 25.0103 & 6.98256 & 0.100007 & 1193.78 & 1457.51 & 13897.2 \\\\\n",
       "\t24 & 24.9104 & 6.98365 & 0.0999319 & 1193.78 & 1347.9 & 10853.6 \\\\\n",
       "\t$\\dots$ & $\\dots$ & $\\dots$ & $\\dots$ & $\\dots$ & $\\dots$ & $\\dots$ \\\\\n",
       "\\end{tabular}\n"
      ],
      "text/plain": [
       "\u001b[1m100×6 DataFrame\u001b[0m\n",
       "\u001b[1m Row \u001b[0m│\u001b[1m gNa     \u001b[0m\u001b[1m gK       \u001b[0m\u001b[1m gleak     \u001b[0m\u001b[1m κ²      \u001b[0m\u001b[1m loss         \u001b[0m\u001b[1m T        \u001b[0m\n",
       "     │\u001b[90m Float64 \u001b[0m\u001b[90m Float64  \u001b[0m\u001b[90m Float64   \u001b[0m\u001b[90m Float64 \u001b[0m\u001b[90m Float64      \u001b[0m\u001b[90m Float64  \u001b[0m\n",
       "─────┼───────────────────────────────────────────────────────────────\n",
       "   1 │ 24.9104   6.98365  0.0999319  1193.78  1347.9        10261.5\n",
       "   2 │ 24.9104   6.98365  0.0999319  1193.78  1347.9        10139.8\n",
       "   3 │ 24.9104   6.98365  0.0999319  1193.78  1347.9        11827.7\n",
       "   4 │ 25.0103   6.98256  0.100007   1193.78  1457.51        9572.34\n",
       "   5 │ 24.9104   6.98365  0.0999319  1193.78  1347.9         9552.36\n",
       "   6 │ 24.9104   6.98365  0.0999319  1193.78  1347.9        11933.1\n",
       "   7 │ 25.0103   6.98256  0.100007   1193.78  1457.51       11541.1\n",
       "   8 │ 25.0049   6.98964  0.0999877  1193.78  1591.63       11805.8\n",
       "  ⋮  │    ⋮        ⋮          ⋮         ⋮          ⋮           ⋮\n",
       "  94 │ 24.9104   6.98365  0.0999319  1193.78  1347.9        14816.2\n",
       "  95 │ 24.9104   6.98365  0.0999319  1193.78  1347.9         8546.76\n",
       "  96 │  0.5     15.0      0.189585   1193.78     6.00404e6  14301.7\n",
       "  97 │ 24.9104   6.98365  0.0999319  1193.78  1347.9        10849.6\n",
       "  98 │ 24.9104   6.98365  0.0999319  1193.78  1347.9        10994.4\n",
       "  99 │ 24.9104   6.98365  0.0999319  1193.78  1347.9         9061.04\n",
       " 100 │ 24.9104   6.98365  0.0999319  1193.78  1347.9        10781.1\n",
       "\u001b[36m                                                      85 rows omitted\u001b[0m"
      ]
     },
     "metadata": {},
     "output_type": "display_data"
    }
   ],
   "source": [
    "# plot tRMSE and pRMSE\n",
    "BASE_PATH = RESULTS_PATH * \"pd/1p/single_pendulum/\"\n",
    "pd_rk_trajectories = import_csvs(BASE_PATH * \"rk4/l2\", readdir(BASE_PATH * \"rk4/l2\"), [keys(θ_pd)..., :loss, :T])\n",
    "pd_rk_last_rows = get_last_rows(pd_rk_trajectories)\n",
    "pd_fenrir_trajectories = import_csvs(BASE_PATH * \"fenrir/learned_diff\", readdir(BASE_PATH * \"fenrir/learned_diff\"), [keys(θ_pd)..., :κ², :loss, :T])\n",
    "pd_fenrir_last_rows = get_last_rows(pd_fenrir_trajectories)\n",
    "pd_diffS_trajectories = import_csvs(BASE_PATH * \"fenrir/tempered_diff\", readdir(BASE_PATH * \"fenrir/tempered_diff\"), [keys(θ_pd)..., :κ², :loss, :T])\n",
    "pd_diffS_last_rows = get_last_rows(pd_diffS_trajectories)\n",
    "\n",
    "\n",
    "BASE_PATH = RESULTS_PATH * \"hh/3p/simple/\"\n",
    "hh_rk_trajectories = import_csvs(BASE_PATH * \"rk4/l2\", readdir(BASE_PATH * \"rk4/l2\"), [keys(θ_hh)..., :loss, :T])\n",
    "hh_rk_last_rows = get_last_rows(hh_rk_trajectories)\n",
    "hh_fenrir_trajectories = import_csvs(BASE_PATH * \"fenrir/learned_diff\", readdir(BASE_PATH * \"fenrir/learned_diff\"), [keys(θ_hh)..., :κ², :loss, :T])\n",
    "hh_fenrir_last_rows = get_last_rows(hh_fenrir_trajectories)\n",
    "hh_diffS_trajectories = import_csvs(BASE_PATH * \"fenrir/tempered_diff\", readdir(BASE_PATH * \"fenrir/tempered_diff\"), [keys(θ_hh)..., :κ², :loss, :T])\n",
    "hh_diffS_last_rows = get_last_rows(hh_diffS_trajectories)"
   ]
  },
  {
   "cell_type": "code",
   "execution_count": 11,
   "metadata": {},
   "outputs": [
    {
     "data": {
      "text/plain": [
       "100-element Vector{Float64}:\n",
       " 0.015484871071505153\n",
       " 0.015484871071551864\n",
       " 0.015484868159489159\n",
       " 0.015484871071505153\n",
       " 0.015484871071551864\n",
       " 0.015484871071551864\n",
       " 0.015484871071505153\n",
       " 0.015484871071505153\n",
       " 0.015484871071551864\n",
       " 0.015484871071551864\n",
       " ⋮\n",
       " 0.015484868159489159\n",
       " 0.015484868159489159\n",
       " 0.015484871071551864\n",
       " 0.015484871071505153\n",
       " 0.015484868159489159\n",
       " 0.015484871071505153\n",
       " 0.015484871071505153\n",
       " 0.015484868159489159\n",
       " 0.015484871071505153"
      ]
     },
     "metadata": {},
     "output_type": "display_data"
    }
   ],
   "source": [
    "hh_t_obs, u_obs = simulate(hh, 1e-2)\n",
    "hh_u_rk = map(x -> simulate(remake(hh, p=x), 1e-2)[2], eachrow(hh_rk_last_rows[!, keys(θ_hh)]))\n",
    "hh_u_fenrir = map(x -> simulate(remake(hh, p=x), 1e-2)[2], eachrow(hh_fenrir_last_rows[!, keys(θ_hh)]))\n",
    "hh_u_diffS = map(x -> simulate(remake(hh, p=x), 1e-2)[2], eachrow(hh_diffS_last_rows[!, keys(θ_hh)]))\n",
    "hh_tRMSEs_rk = map(x -> tRMSE(x * hh_proj', u_obs * hh_proj'), hh_u_rk)\n",
    "hh_tRMSEs_fenrir = map(x -> tRMSE(x * hh_proj', u_obs * hh_proj'), hh_u_fenrir)\n",
    "hh_tRMSEs_diffS = map(x -> tRMSE(x * hh_proj', u_obs * hh_proj'), hh_u_diffS)\n",
    "\n",
    "pd_t_obs, u_obs = simulate(pd, 1e-2)\n",
    "pd_u_rk = map(x -> simulate(remake(pd, p=x), 1e-2)[2], eachrow(pd_rk_last_rows[!, keys(θ_pd)]))\n",
    "pd_u_fenrir = map(x -> simulate(remake(pd, p=x), 1e-2)[2], eachrow(pd_fenrir_last_rows[!, keys(θ_pd)]))\n",
    "pd_u_diffS = map(x -> simulate(remake(pd, p=x), 1e-2)[2], eachrow(pd_diffS_last_rows[!, keys(θ_pd)]))\n",
    "pd_tRMSEs_rk = map(x -> tRMSE(x * pd_proj', u_obs * pd_proj'), pd_u_rk)\n",
    "pd_tRMSEs_fenrir = map(x -> tRMSE(x * pd_proj', u_obs * pd_proj'), pd_u_fenrir)\n",
    "pd_tRMSEs_diffS = map(x -> tRMSE(x * pd_proj', u_obs * pd_proj'), pd_u_diffS)"
   ]
  },
  {
   "cell_type": "code",
   "execution_count": 13,
   "metadata": {},
   "outputs": [
    {
     "data": {
      "image/png": "[encoded data removed]",
      "text/html": [
       "<img width=234 height=70 style='object-fit: contain;' src=\"data:image/png;base64, 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\"/>"
      ]
     },
     "metadata": {},
     "output_type": "display_data"
    }
   ],
   "source": [
    "f = Figure(size=(HALF_WIDTH, HEIGHT), figure_padding=5)\n",
    "gap = 1.5\n",
    "# pos = [1.0, 2.0, 3.0, 4.0]\n",
    "# pos[3:4] .+= gap\n",
    "pos = [1.0, 2.0, 3.0, 4.0, 5.0, 6.0]\n",
    "pos[4:6] .+= gap\n",
    "ax1 = Axis(f[1, 1], ylabel=\"log tRMSE\", xticks=([mean(pos[1:3]), mean(pos[4:6])], [\"Pendulum\", \"HH\"]); PLOT_DEFAULTS..., ytrimspine=true, xtrimspine=true)\n",
    "\n",
    "l1 = boxplot!(ax1, fill(pos[1], 95), log10.(pd_tRMSEs_rk), color=Makie.wong_colors()[1], width=1, gap=0.1, whiskerwidth=0.5, markersize=5, label=\"RK\")\n",
    "l2 = boxplot!(ax1, fill(pos[2], 100), log10.(pd_tRMSEs_fenrir), color=Makie.wong_colors()[2], width=1, gap=0.1, whiskerwidth=0.5, markersize=5, label=\"Fenrir\")\n",
    "l3 = boxplot!(ax1, fill(pos[3], 100), log10.(pd_tRMSEs_diffS), color=Makie.wong_colors()[3], width=1, gap=0.1, whiskerwidth=0.5, markersize=5, label=\"ours\")\n",
    "\n",
    "boxplot!(ax1, fill(pos[4], 95), log10.(hh_tRMSEs_rk), color=Makie.wong_colors()[1], width=1, gap=0.1, whiskerwidth=0.5, markersize=5, label=\"RK\")\n",
    "boxplot!(ax1, fill(pos[5], 100), log10.(hh_tRMSEs_fenrir), color=Makie.wong_colors()[2], width=1, gap=0.1, whiskerwidth=0.5, markersize=5, label=\"Fenrir\")\n",
    "boxplot!(ax1, fill(pos[6], 100), log10.(hh_tRMSEs_diffS), color=Makie.wong_colors()[3], width=1, gap=0.1, whiskerwidth=0.5, markersize=5, label=\"ours\")\n",
    "\n",
    "for ax in [ax1]\n",
    "    hidespines!(ax, :t, :r)\n",
    "    hidedecorations!(ax, grid=true, ticks=false, label=false, ticklabels=false)\n",
    "end\n",
    "\n",
    "leg = Legend(f[1, 2], [l1, l2, l3], [\"RK\", \"Fenrir\", \"ours\"], \"Method\", halign=:right, labelsize=7, size=2, patchsize=(6, 6), titlesize=7, framevisible=false)\n",
    "colgap!(f.layout, 1, Relative(0.05))\n",
    "ylims!(ax1, -2, 2)\n",
    "hidespines!(ax1, :b)\n",
    "hidexdecorations!(ax1, grid=true, ticks=true, label=false, ticklabels=false)\n",
    "\n",
    "f"
   ]
  },
  {
   "cell_type": "code",
   "execution_count": 14,
   "metadata": {},
   "outputs": [
    {
     "data": {
      "text/plain": [
       "CairoMakie.Screen{PDF}\n"
      ]
     },
     "metadata": {},
     "output_type": "display_data"
    }
   ],
   "source": [
    "save(joinpath(FIGURES_PATH, \"figure1.pdf\"), f, overwrite=true)"
   ]
  },
  {
   "cell_type": "code",
   "execution_count": null,
   "metadata": {},
   "outputs": [],
   "source": []
  }
 ],
 "metadata": {
  "kernelspec": {
   "display_name": "Julia 1.9.4",
   "language": "julia",
   "name": "julia-1.9"
  },
  "language_info": {
   "file_extension": ".jl",
   "mimetype": "application/julia",
   "name": "julia",
   "version": "1.9.4"
  }
 },
 "nbformat": 4,
 "nbformat_minor": 2
}
