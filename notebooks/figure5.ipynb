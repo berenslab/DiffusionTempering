{
 "cells": [
  {
   "cell_type": "code",
   "execution_count": 1,
   "metadata": {},
   "outputs": [
    {
     "data": {
      "text/plain": [
       "Makie.Axis"
      ]
     },
     "metadata": {},
     "output_type": "display_data"
    }
   ],
   "source": [
    "using DrWatson\n",
    "@quickactivate \"FenrirForNeuro\"\n",
    "using CairoMakie\n",
    "using CSV, DataFrames\n",
    "using Printf\n",
    "using Statistics, LinearAlgebra\n",
    "\n",
    "Axis = CairoMakie.Axis"
   ]
  },
  {
   "cell_type": "code",
   "execution_count": 2,
   "metadata": {},
   "outputs": [
    {
     "data": {
      "text/plain": [
       "rel_pRMSE (generic function with 1 method)"
      ]
     },
     "metadata": {},
     "output_type": "display_data"
    }
   ],
   "source": [
    "# helpers\n",
    "function simulate(prob, p, proj)\n",
    "    tₛ, tₑ = prob.tspan\n",
    "    sol = solve(\n",
    "        remake(prob, p=p),\n",
    "        RadauIIA5(),\n",
    "        abstol=1e-14,\n",
    "        reltol=1e-14,\n",
    "        dense=false,\n",
    "    )\n",
    "    t_obs = sol.t[1:end]\n",
    "    u_obs = vcat([(proj * u) for u in sol.u]...)\n",
    "    return t_obs, u_obs\n",
    "end\n",
    "\n",
    "function import_csvs(path, fnames, header=nothing)\n",
    "    dfs = []\n",
    "    for fname in fnames\n",
    "        fpath = joinpath(path, fname)\n",
    "        df = CSV.read(fpath, DataFrame, header=false)\n",
    "        if header != nothing\n",
    "            rename!(df, header)\n",
    "        end\n",
    "        push!(dfs, df)\n",
    "    end\n",
    "    return dfs\n",
    "end\n",
    "\n",
    "get_last_rows(trajectories) = vcat([DataFrame(t[end, :]) for t in trajectories]...)\n",
    "\n",
    "θ = [Pair(:gNa, 25), Pair(:gK, 7)]\n",
    "pkeys(θ) = map(θᵢ -> Symbol(θᵢ[1]), θ)\n",
    "pvalues(θ) = map(θᵢ -> θᵢ[2], θ)\n",
    "\n",
    "function where_converged(trajectories, threshold=5e-2)\n",
    "    last_rows = get_last_rows(trajectories)\n",
    "    pRMSEs = map(x -> rel_pRMSE(x, pvalues(θ)), eachrow(Array(last_rows[!, pkeys(θ)])))\n",
    "    return pRMSEs .< 5e-2\n",
    "end\n",
    "\n",
    "function rel_pRMSE(θ_hat, θ)\n",
    "    θ_hat = ndims(θ_hat) == 1 ? reshape(θ_hat, length(θ_hat), 1) : θ_hat\n",
    "    MSE = sum(abs2, (θ_hat .- θ) ./ θ) / size(θ, 1)\n",
    "    RMSE = sqrt.(MSE)\n",
    "    return RMSE\n",
    "end"
   ]
  },
  {
   "cell_type": "code",
   "execution_count": 3,
   "metadata": {},
   "outputs": [
    {
     "data": {
      "text/plain": [
       "(titlesize = 7, xlabelsize = 7, ylabelsize = 7, xticklabelsize = 7, yticklabelsize = 7, xticksize = 2, yticksize = 2)"
      ]
     },
     "metadata": {},
     "output_type": "display_data"
    }
   ],
   "source": [
    "HALF_WIDTH = ((6.75 - 0.25) / 2) # inches\n",
    "FULL_WIDTH = 6.75 # inches\n",
    "HEIGHT = 0.4 * HALF_WIDTH # inches\n",
    "\n",
    "PT_PER_INCH = 72\n",
    "HALF_WIDTH *= PT_PER_INCH\n",
    "FULL_WIDTH *= PT_PER_INCH\n",
    "HEIGHT *= PT_PER_INCH\n",
    "\n",
    "RESULTS_PATH = \"../../results/\"\n",
    "FIGURES_PATH = \"../../figures/\"\n",
    "\n",
    "PLOT_DEFAULTS = (titlesize=7, xlabelsize=7, ylabelsize=7, xticklabelsize=7, yticklabelsize=7, xticksize=2, yticksize=2)"
   ]
  },
  {
   "cell_type": "code",
   "execution_count": 4,
   "metadata": {},
   "outputs": [
    {
     "name": "stdout",
     "output_type": "stream",
     "text": [
      "best κ²= 1.0e16 -> 84.0% correct\n"
     ]
    }
   ],
   "source": [
    "BASE_PATH = RESULTS_PATH*\"hh/2p/simple/\"\n",
    "\n",
    "tempering_schedule = reverse([10.0^x for x in 0:20])\n",
    "\n",
    "metrics = []\n",
    "\n",
    "max, max_idx = (0, 0)\n",
    "for (i, T) in enumerate(tempering_schedule)\n",
    "    fnames = readdir(BASE_PATH * \"fenrir/compare_fixed_diff\")\n",
    "    fnames = fnames[map(x -> occursin(\"-$i-\", x), fnames)]\n",
    "    trajectories = import_csvs(BASE_PATH * \"fenrir/compare_fixed_diff\", fnames, [pkeys(θ)..., :κ², :loss, :T])\n",
    "    conv = where_converged(trajectories)\n",
    "\n",
    "    if mean(conv) > max\n",
    "        max = mean(conv)\n",
    "        max_idx = i\n",
    "    end\n",
    "    push!(metrics, conv)\n",
    "end\n",
    "\n",
    "# high, low, best κ²\n",
    "metrics = [metrics[end], metrics[1], metrics[max_idx]]\n",
    "\n",
    "# RK4\n",
    "trajectories = import_csvs(BASE_PATH * \"rk4/l2\", readdir(BASE_PATH * \"rk4/l2\"), [pkeys(θ)..., :loss, :T])\n",
    "metrics = [where_converged(trajectories), metrics...]\n",
    "\n",
    "# optimal κ²\n",
    "trajectories = import_csvs(BASE_PATH * \"fenrir/opt_fixed_diff\", readdir(BASE_PATH * \"fenrir/opt_fixed_diff\"), [pkeys(θ)..., :κ², :loss, :T])\n",
    "push!(metrics, where_converged(trajectories))\n",
    "\n",
    "# learned κ²\n",
    "trajectories = import_csvs(BASE_PATH * \"fenrir/learned_diff\", readdir(BASE_PATH * \"fenrir/learned_diff\"), [pkeys(θ)..., :κ², :loss, :T])\n",
    "push!(metrics, where_converged(trajectories))\n",
    "\n",
    "# OURS\n",
    "trajectories = import_csvs(BASE_PATH * \"fenrir/tempered_diff\", readdir(BASE_PATH * \"fenrir/tempered_diff\"), [pkeys(θ)..., :κ², :loss, :T])\n",
    "push!(metrics, where_converged(trajectories))\n",
    "\n",
    "println(\"best κ²= $(tempering_schedule[max_idx]) -> $(max*100)% correct\")"
   ]
  },
  {
   "cell_type": "code",
   "execution_count": 5,
   "metadata": {},
   "outputs": [
    {
     "data": {
      "image/png": "[encoded data removed]",
      "text/html": [
       "<img width=234 height=94 style='object-fit: contain;' src=\"data:image/png;base64, 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\"/>"
      ]
     },
     "metadata": {},
     "output_type": "display_data"
    }
   ],
   "source": [
    "methods = [\"RK\", \"low\", \"high\", \"best\", \"optimal\", \"learned\", \"ours\"]\n",
    "\n",
    "f = Figure(size=(HALF_WIDTH, HEIGHT), figure_padding=5)\n",
    "\n",
    "pad = 1\n",
    "pos = [1.0, 2.0, 3.0, 4.0, 5.0, 6.0, 7.0]\n",
    "pos[2:end] .+= pad\n",
    "pos[end-1:end] .+= pad\n",
    "ax = Axis(f[1, 1], ylabel=\"Frequency\", xticks=(pos, methods), xticklabelrotation=pi / 4; PLOT_DEFAULTS...)\n",
    "colors = Makie.wong_colors()[1:4]\n",
    "for (i, conv, c) in zip(pos, metrics, [colors[1], fill(colors[2], 4)..., colors[3], colors[4]])\n",
    "    conv = vcat(conv, zeros(100 - size(conv, 1)))\n",
    "    conv = reshape(conv, 10, 10)\n",
    "    μ_conv = reshape(mean(conv, dims=1), :)\n",
    "    m_conv = median(μ_conv)\n",
    "    ql_conv = quantile(μ_conv, 0.25)\n",
    "    qu_conv = quantile(μ_conv, 0.75)\n",
    "\n",
    "    barplot!(ax, i, m_conv, color=c)\n",
    "    errorbars!(ax, [i], [m_conv], [m_conv - ql_conv], [qu_conv - m_conv], color=:black, linewidth=1)\n",
    "    # barplot!(ax, i, mean(μ_conv))\n",
    "    # boxplot!(ax, fill(i, 10), μ_conv)\n",
    "end\n",
    "ylims!(ax, 0, 1)\n",
    "hidedecorations!(ax, grid=true, label=false, ticklabels=false, ticks=false)\n",
    "hidespines!(ax, :r, :t)\n",
    "f"
   ]
  },
  {
   "cell_type": "code",
   "execution_count": 6,
   "metadata": {},
   "outputs": [
    {
     "data": {
      "text/plain": [
       "CairoMakie.Screen{PDF}\n"
      ]
     },
     "metadata": {},
     "output_type": "display_data"
    }
   ],
   "source": [
    "save(joinpath(FIGURES_PATH, \"figure5.pdf\"), f, overwrite=true)"
   ]
  },
  {
   "cell_type": "code",
   "execution_count": null,
   "metadata": {},
   "outputs": [],
   "source": []
  }
 ],
 "metadata": {
  "kernelspec": {
   "display_name": "Julia 1.9.4",
   "language": "julia",
   "name": "julia-1.9"
  },
  "language_info": {
   "file_extension": ".jl",
   "mimetype": "application/julia",
   "name": "julia",
   "version": "1.9.4"
  }
 },
 "nbformat": 4,
 "nbformat_minor": 2
}
